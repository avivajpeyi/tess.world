{
 "cells": [
  {
   "cell_type": "code",
   "execution_count": null,
   "metadata": {},
   "outputs": [],
   "source": [
    "import sympy as sm"
   ]
  },
  {
   "cell_type": "markdown",
   "metadata": {},
   "source": [
    "## Depth"
   ]
  },
  {
   "cell_type": "code",
   "execution_count": null,
   "metadata": {},
   "outputs": [],
   "source": [
    "u1, u2, r, k, mu_b, d = sm.symbols(\"u1, u2, r, k, mu_b, d\", real=True)\n",
    "mu = sm.sqrt(1 - r ** 2)\n",
    "ir = 1 - u1 * (1 - mu) - u2 * (1 - mu) ** 2"
   ]
  },
  {
   "cell_type": "code",
   "execution_count": null,
   "metadata": {},
   "outputs": [],
   "source": [
    "f0 = sm.simplify(sm.integrate(2 * sm.pi * r * ir, (r, 0, 1)))\n",
    "f0"
   ]
  },
  {
   "cell_type": "code",
   "execution_count": null,
   "metadata": {},
   "outputs": [],
   "source": [
    "df = sm.pi * k ** 2 * ir.subs([(r, sm.sqrt(1 - mu_b ** 2))])\n",
    "df"
   ]
  },
  {
   "cell_type": "code",
   "execution_count": null,
   "metadata": {},
   "outputs": [],
   "source": [
    "delta = sm.simplify(df / f0)\n",
    "delta"
   ]
  },
  {
   "cell_type": "code",
   "execution_count": null,
   "metadata": {},
   "outputs": [],
   "source": [
    "sm.solve(sm.Eq(delta, d), k ** 2)[0]"
   ]
  },
  {
   "cell_type": "markdown",
   "metadata": {},
   "source": [
    "## Duration"
   ]
  },
  {
   "cell_type": "code",
   "execution_count": null,
   "metadata": {},
   "outputs": [],
   "source": [
    "# sin2phi = sin^2(pi * tau / P)\n",
    "\n",
    "k, b, a, sin2phi, tau, P = sm.symbols(\"k, b, a, sin2phi, tau, P\", real=True)\n",
    "\n",
    "cos2i = (b / a) ** 2\n",
    "sin2i = 1 - cos2i\n",
    "\n",
    "val = sm.simplify(((1 + k) ** 2 - b ** 2) / (a ** 2 * sin2i))\n",
    "val"
   ]
  },
  {
   "cell_type": "code",
   "execution_count": null,
   "metadata": {},
   "outputs": [],
   "source": [
    "a2_res = sm.solve(sm.Eq(sin2phi, val), a ** 2)[0]\n",
    "a2_res"
   ]
  },
  {
   "cell_type": "code",
   "execution_count": null,
   "metadata": {},
   "outputs": [],
   "source": [
    "sm.simplify(a2_res.subs([(sin2phi, sm.sin(sm.pi * tau / P) ** 2)]))"
   ]
  },
  {
   "cell_type": "code",
   "execution_count": null,
   "metadata": {},
   "outputs": [],
   "source": [
    "sm.simplify(a2_res - ((1 + k) ** 2 - b ** 2 * (1 - sin2phi)) / sin2phi)"
   ]
  },
  {
   "cell_type": "code",
   "execution_count": null,
   "metadata": {},
   "outputs": [],
   "source": [
    "sm.simplify(sm.diff(a2_res.subs([(sin2phi, sm.sin(sm.pi * tau / P) ** 2)]), tau))"
   ]
  },
  {
   "cell_type": "code",
   "execution_count": null,
   "metadata": {},
   "outputs": [],
   "source": []
  }
 ],
 "metadata": {
  "kernelspec": {
   "display_name": "Python 3",
   "language": "python",
   "name": "python3"
  },
  "language_info": {
   "codemirror_mode": {
    "name": "ipython",
    "version": 3
   },
   "file_extension": ".py",
   "mimetype": "text/x-python",
   "name": "python",
   "nbconvert_exporter": "python",
   "pygments_lexer": "ipython3",
   "version": "3.8.1"
  }
 },
 "nbformat": 4,
 "nbformat_minor": 4
}
