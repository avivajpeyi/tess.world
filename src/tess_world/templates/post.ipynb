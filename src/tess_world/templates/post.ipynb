{
 "cells": [
  {
   "cell_type": "code",
   "execution_count": null,
   "metadata": {},
   "outputs": [],
   "source": [
    "from astroquery.mast import Catalogs\n",
    "\n",
    "star = Catalogs.query_object(f\"TIC {tic}\", catalog=\"TIC\", radius=0.001)\n",
    "tic_rho_star = float(star[\"rho\"]), float(star[\"e_rho\"])\n",
    "if np.all(np.isfinite(tic_rho_star)):\n",
    "\n",
    "    print(\"rho_star = {0} ± {1}\".format(*tic_rho_star))\n",
    "\n",
    "    # Extract the implied density from the fit\n",
    "    rho_circ = np.repeat(trace[\"rho_circ\"], 500, axis=0)\n",
    "    period = np.repeat(trace[\"period\"], 500, axis=0)\n",
    "\n",
    "    # Sample eccentricity and omega uniformly\n",
    "    ecc = np.random.uniform(0, 1, len(rho_circ))\n",
    "    omega = np.random.uniform(-np.pi, np.pi, len(rho_circ))\n",
    "\n",
    "    # Compute the \"g\" parameter from Dawson & Johnson and what true\n",
    "    # density that implies\n",
    "    g = (1 + ecc * np.sin(omega)) / np.sqrt(1 - ecc ** 2)\n",
    "    rho = rho_circ / g[:, None] ** 3\n",
    "\n",
    "    # Re-weight these samples to get weighted posterior samples\n",
    "    log_weights = -0.5 * ((rho - tic_rho_star[0]) / tic_rho_star[1]) ** 2\n",
    "\n",
    "    for n in range(num_toi):\n",
    "        weights = np.exp(log_weights[:, n] - np.max(log_weights[:, n]))\n",
    "        if single_transit[n]:\n",
    "            samples = np.vstack((ecc, omega, np.log10(period[:, n]))).T\n",
    "            labels = [\n",
    "                f\"$e_{n + 1}$\",\n",
    "                f\"$\\omega_{n + 1}$\",\n",
    "                f\"$\\log_{{10}} P_{n + 1} / \\mathrm{{day}}$\",\n",
    "            ]\n",
    "        else:\n",
    "            samples = np.vstack((ecc, omega)).T\n",
    "            labels = [f\"$e_{n + 1}$\", f\"$\\omega_{n + 1}$\"]\n",
    "\n",
    "        fig = corner.corner(\n",
    "            samples, weights=weights, plot_datapoints=False, labels=labels,\n",
    "        )\n",
    "        fig.suptitle(f\"TOI {toi_num}.{n + 1:02d}\")\n",
    "\n",
    "else:\n",
    "    print(\"The TIC has no measured density\")"
   ]
  }
 ],
 "metadata": {
  "kernelspec": {
   "display_name": "Python 3",
   "language": "python",
   "name": "python3"
  },
  "language_info": {
   "codemirror_mode": {
    "name": "ipython",
    "version": 3
   },
   "file_extension": ".py",
   "mimetype": "text/x-python",
   "name": "python",
   "nbconvert_exporter": "python",
   "pygments_lexer": "ipython3",
   "version": "3.8.1"
  }
 },
 "nbformat": 4,
 "nbformat_minor": 4
}
